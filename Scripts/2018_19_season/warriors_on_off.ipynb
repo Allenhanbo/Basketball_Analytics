{
 "cells": [
  {
   "cell_type": "code",
   "execution_count": 1,
   "metadata": {},
   "outputs": [],
   "source": [
    "import numpy as np\n",
    "import seaborn as sns\n",
    "import matplotlib.pyplot as plt\n",
    "import pandas as pd\n",
    "from nba_api.stats.endpoints.teamvsplayer import TeamVsPlayer"
   ]
  },
  {
   "cell_type": "code",
   "execution_count": 2,
   "metadata": {},
   "outputs": [],
   "source": [
    "from nba_api.stats.static.players import find_players_by_full_name\n",
    "from nba_api.stats.static.teams import find_teams_by_full_name"
   ]
  },
  {
   "cell_type": "code",
   "execution_count": 5,
   "metadata": {},
   "outputs": [],
   "source": [
    "steph_id = find_players_by_full_name(\"Stephen Curry\")[0]['id']\n",
    "durant_id = find_players_by_full_name(\"Kevin Durant\")[0]['id']\n",
    "draymond_id = find_players_by_full_name(\"Draymond Green\")[0]['id']\n",
    "klay_id = find_players_by_full_name(\"Klay Thompson\")[0]['id']"
   ]
  },
  {
   "cell_type": "code",
   "execution_count": 6,
   "metadata": {},
   "outputs": [],
   "source": [
    "gsw_id = find_teams_by_full_name(\"Golden State Warriors\")[0]['id']"
   ]
  },
  {
   "cell_type": "code",
   "execution_count": 19,
   "metadata": {},
   "outputs": [],
   "source": [
    "steph_on_off = TeamVsPlayer(vs_player_id=steph_id, team_id=gsw_id, measure_type_detailed_defense=\"Advanced\")"
   ]
  },
  {
   "cell_type": "code",
   "execution_count": 30,
   "metadata": {},
   "outputs": [],
   "source": [
    "def get_on_off_data(player_id):\n",
    "    return TeamVsPlayer(\n",
    "        vs_player_id=player_id,\n",
    "        team_id=gsw_id,\n",
    "        measure_type_detailed_defense=\"Advanced\"\n",
    "    ).get_data_frames()[2]"
   ]
  },
  {
   "cell_type": "code",
   "execution_count": 31,
   "metadata": {},
   "outputs": [],
   "source": [
    "player_data = [\n",
    "    (steph_id, 'Stephen Curry'),\n",
    "    (durant_id, 'Kevin Durant'),\n",
    "    (draymond_id, 'Draymond Green'),\n",
    "    (klay_id, 'Klay Thompson')\n",
    "]"
   ]
  },
  {
   "cell_type": "code",
   "execution_count": 32,
   "metadata": {},
   "outputs": [],
   "source": [
    "data_dict = {}\n",
    "for player_id, player_name in player_data:\n",
    "    data_dict[(player_id, player_name)] = get_on_off_data(player_id)"
   ]
  },
  {
   "cell_type": "code",
   "execution_count": 54,
   "metadata": {},
   "outputs": [
    {
     "name": "stdout",
     "output_type": "stream",
     "text": [
      "638.0\n",
      "812.0\n",
      "1071.0\n",
      "379.0\n",
      "481.0\n",
      "969.0\n",
      "1041.0\n",
      "409.0\n"
     ]
    },
    {
     "data": {
      "image/png": "[encoded data removed]",
      "text/plain": [
       "<Figure size 432x288 with 1 Axes>"
      ]
     },
     "metadata": {
      "needs_background": "light"
     },
     "output_type": "display_data"
    }
   ],
   "source": [
    "for key in data_dict:\n",
    "    player_id, player_name = key\n",
    "    data_frame = data_dict[key]\n",
    "    on_net_rating = data_frame.loc[data_frame.COURT_STATUS == 'On'].NET_RATING.iloc[0]\n",
    "    off_net_rating = data_frame.loc[data_frame.COURT_STATUS == 'Off'].NET_RATING.iloc[0]\n",
    "    print(data_frame.loc[data_frame.COURT_STATUS == 'On'].MIN.iloc[0])\n",
    "    print(data_frame.loc[data_frame.COURT_STATUS == 'Off'].MIN.iloc[0])\n",
    "    plt.scatter(x=off_net_rating, y=player_name, c='red')\n",
    "    plt.scatter(x=on_net_rating, y=player_name, c='blue')"
   ]
  },
  {
   "cell_type": "code",
   "execution_count": 37,
   "metadata": {},
   "outputs": [],
   "source": [
    "on_off_df = steph_on_off.get_data_frames()[2]"
   ]
  },
  {
   "cell_type": "code",
   "execution_count": 51,
   "metadata": {},
   "outputs": [
    {
     "data": {
      "text/plain": [
       "-1.7"
      ]
     },
     "execution_count": 51,
     "metadata": {},
     "output_type": "execute_result"
    }
   ],
   "source": [
    "on_off_df.loc[on_off_df.COURT_STATUS == 'Off'].NET_RATING.iloc[0]"
   ]
  },
  {
   "cell_type": "code",
   "execution_count": 42,
   "metadata": {},
   "outputs": [
    {
     "data": {
      "text/html": [
       "<div>\n",
       "<style scoped>\n",
       "    .dataframe tbody tr th:only-of-type {\n",
       "        vertical-align: middle;\n",
       "    }\n",
       "\n",
       "    .dataframe tbody tr th {\n",
       "        vertical-align: top;\n",
       "    }\n",
       "\n",
       "    .dataframe thead th {\n",
       "        text-align: right;\n",
       "    }\n",
       "</style>\n",
       "<table border=\"1\" class=\"dataframe\">\n",
       "  <thead>\n",
       "    <tr style=\"text-align: right;\">\n",
       "      <th></th>\n",
       "      <th>GROUP_SET</th>\n",
       "      <th>TEAM_ID</th>\n",
       "      <th>TEAM_ABBREVIATION</th>\n",
       "      <th>TEAM_NAME</th>\n",
       "      <th>VS_PLAYER_ID</th>\n",
       "      <th>VS_PLAYER_NAME</th>\n",
       "      <th>COURT_STATUS</th>\n",
       "      <th>GP</th>\n",
       "      <th>W</th>\n",
       "      <th>L</th>\n",
       "      <th>W_PCT</th>\n",
       "      <th>MIN</th>\n",
       "      <th>E_OFF_RATING</th>\n",
       "      <th>OFF_RATING</th>\n",
       "      <th>E_DEF_RATING</th>\n",
       "      <th>DEF_RATING</th>\n",
       "      <th>E_NET_RATING</th>\n",
       "      <th>NET_RATING</th>\n",
       "      <th>AST_PCT</th>\n",
       "      <th>AST_TO</th>\n",
       "      <th>AST_RATIO</th>\n",
       "      <th>OREB_PCT</th>\n",
       "      <th>DREB_PCT</th>\n",
       "      <th>REB_PCT</th>\n",
       "      <th>TM_TOV_PCT</th>\n",
       "      <th>EFG_PCT</th>\n",
       "      <th>TS_PCT</th>\n",
       "      <th>E_PACE</th>\n",
       "      <th>PACE</th>\n",
       "      <th>PIE</th>\n",
       "      <th>GP_RANK</th>\n",
       "      <th>W_RANK</th>\n",
       "      <th>L_RANK</th>\n",
       "      <th>W_PCT_RANK</th>\n",
       "      <th>MIN_RANK</th>\n",
       "      <th>OFF_RATING_RANK</th>\n",
       "      <th>DEF_RATING_RANK</th>\n",
       "      <th>NET_RATING_RANK</th>\n",
       "      <th>AST_PCT_RANK</th>\n",
       "      <th>AST_TO_RANK</th>\n",
       "      <th>AST_RATIO_RANK</th>\n",
       "      <th>OREB_PCT_RANK</th>\n",
       "      <th>DREB_PCT_RANK</th>\n",
       "      <th>REB_PCT_RANK</th>\n",
       "      <th>TM_TOV_PCT_RANK</th>\n",
       "      <th>EFG_PCT_RANK</th>\n",
       "      <th>TS_PCT_RANK</th>\n",
       "      <th>PACE_RANK</th>\n",
       "      <th>PIE_RANK</th>\n",
       "      <th>CFID</th>\n",
       "      <th>CFPARAMS</th>\n",
       "    </tr>\n",
       "  </thead>\n",
       "  <tbody>\n",
       "    <tr>\n",
       "      <th>0</th>\n",
       "      <td>Vs. Player</td>\n",
       "      <td>1610612744</td>\n",
       "      <td>GSW</td>\n",
       "      <td>Golden State Warriors</td>\n",
       "      <td>201939</td>\n",
       "      <td>Curry, Stephen</td>\n",
       "      <td>On</td>\n",
       "      <td>19</td>\n",
       "      <td>15</td>\n",
       "      <td>4</td>\n",
       "      <td>0.789</td>\n",
       "      <td>638.0</td>\n",
       "      <td>116.0</td>\n",
       "      <td>116.4</td>\n",
       "      <td>103.5</td>\n",
       "      <td>104.3</td>\n",
       "      <td>12.5</td>\n",
       "      <td>12.2</td>\n",
       "      <td>0.671</td>\n",
       "      <td>1.89</td>\n",
       "      <td>20.4</td>\n",
       "      <td>0.265</td>\n",
       "      <td>0.759</td>\n",
       "      <td>0.528</td>\n",
       "      <td>0.152</td>\n",
       "      <td>0.581</td>\n",
       "      <td>0.618</td>\n",
       "      <td>106.7</td>\n",
       "      <td>106.07</td>\n",
       "      <td>0.577</td>\n",
       "      <td>2</td>\n",
       "      <td>2</td>\n",
       "      <td>1</td>\n",
       "      <td>1</td>\n",
       "      <td>2</td>\n",
       "      <td>1</td>\n",
       "      <td>1</td>\n",
       "      <td>1</td>\n",
       "      <td>1</td>\n",
       "      <td>1</td>\n",
       "      <td>1</td>\n",
       "      <td>2</td>\n",
       "      <td>1</td>\n",
       "      <td>1</td>\n",
       "      <td>2</td>\n",
       "      <td>1</td>\n",
       "      <td>1</td>\n",
       "      <td>1</td>\n",
       "      <td>1</td>\n",
       "      <td>214</td>\n",
       "      <td>201939</td>\n",
       "    </tr>\n",
       "    <tr>\n",
       "      <th>1</th>\n",
       "      <td>Vs. Player</td>\n",
       "      <td>1610612744</td>\n",
       "      <td>GSW</td>\n",
       "      <td>Golden State Warriors</td>\n",
       "      <td>201939</td>\n",
       "      <td>Curry, Stephen</td>\n",
       "      <td>Off</td>\n",
       "      <td>30</td>\n",
       "      <td>20</td>\n",
       "      <td>10</td>\n",
       "      <td>0.667</td>\n",
       "      <td>812.0</td>\n",
       "      <td>109.9</td>\n",
       "      <td>109.2</td>\n",
       "      <td>108.7</td>\n",
       "      <td>111.0</td>\n",
       "      <td>1.2</td>\n",
       "      <td>-1.7</td>\n",
       "      <td>0.633</td>\n",
       "      <td>1.79</td>\n",
       "      <td>18.8</td>\n",
       "      <td>0.268</td>\n",
       "      <td>0.701</td>\n",
       "      <td>0.498</td>\n",
       "      <td>0.146</td>\n",
       "      <td>0.540</td>\n",
       "      <td>0.577</td>\n",
       "      <td>100.2</td>\n",
       "      <td>99.43</td>\n",
       "      <td>0.511</td>\n",
       "      <td>1</td>\n",
       "      <td>1</td>\n",
       "      <td>2</td>\n",
       "      <td>2</td>\n",
       "      <td>1</td>\n",
       "      <td>2</td>\n",
       "      <td>2</td>\n",
       "      <td>2</td>\n",
       "      <td>2</td>\n",
       "      <td>2</td>\n",
       "      <td>2</td>\n",
       "      <td>1</td>\n",
       "      <td>2</td>\n",
       "      <td>2</td>\n",
       "      <td>1</td>\n",
       "      <td>2</td>\n",
       "      <td>2</td>\n",
       "      <td>2</td>\n",
       "      <td>2</td>\n",
       "      <td>215</td>\n",
       "      <td>201939</td>\n",
       "    </tr>\n",
       "  </tbody>\n",
       "</table>\n",
       "</div>"
      ],
      "text/plain": [
       "    GROUP_SET     TEAM_ID TEAM_ABBREVIATION   ...    PIE_RANK  CFID CFPARAMS\n",
       "0  Vs. Player  1610612744               GSW   ...           1   214   201939\n",
       "1  Vs. Player  1610612744               GSW   ...           2   215   201939\n",
       "\n",
       "[2 rows x 51 columns]"
      ]
     },
     "execution_count": 42,
     "metadata": {},
     "output_type": "execute_result"
    }
   ],
   "source": [
    "on_off_df"
   ]
  },
  {
   "cell_type": "code",
   "execution_count": null,
   "metadata": {},
   "outputs": [],
   "source": []
  }
 ],
 "metadata": {
  "kernelspec": {
   "display_name": "Python 3",
   "language": "python",
   "name": "python3"
  },
  "language_info": {
   "codemirror_mode": {
    "name": "ipython",
    "version": 3
   },
   "file_extension": ".py",
   "mimetype": "text/x-python",
   "name": "python",
   "nbconvert_exporter": "python",
   "pygments_lexer": "ipython3",
   "version": "3.6.6"
  }
 },
 "nbformat": 4,
 "nbformat_minor": 2
}
