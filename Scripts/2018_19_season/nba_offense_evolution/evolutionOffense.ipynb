{
 "cells": [
  {
   "cell_type": "code",
   "execution_count": 1,
   "metadata": {},
   "outputs": [],
   "source": [
    "import numpy as np\n",
    "import matplotlib.pyplot as plt\n",
    "import seaborn as sns\n",
    "import pandas as pd"
   ]
  },
  {
   "cell_type": "code",
   "execution_count": 2,
   "metadata": {},
   "outputs": [],
   "source": [
    "plt.style.use('fivethirtyeight')"
   ]
  },
  {
   "cell_type": "markdown",
   "metadata": {},
   "source": [
    "# Change in three pointers "
   ]
  },
  {
   "cell_type": "code",
   "execution_count": 9,
   "metadata": {},
   "outputs": [],
   "source": [
    "averages = pd.read_csv('averages_season_three_point_era.csv')"
   ]
  },
  {
   "cell_type": "code",
   "execution_count": 11,
   "metadata": {},
   "outputs": [
    {
     "data": {
      "text/plain": [
       "Rk              1\n",
       "Season    2018-19\n",
       "Lg            NBA\n",
       "Age          26.3\n",
       "Ht            6-7\n",
       "Wt            218\n",
       "G             951\n",
       "MP          241.7\n",
       "FG             41\n",
       "FGA            89\n",
       "3P           11.2\n",
       "3PA          31.7\n",
       "FT           17.9\n",
       "FTA          23.3\n",
       "ORB          10.3\n",
       "DRB          34.6\n",
       "TRB            45\n",
       "AST          24.5\n",
       "STL           7.7\n",
       "BLK             5\n",
       "TOV          14.3\n",
       "PF           21.2\n",
       "PTS           111\n",
       "FG%          0.46\n",
       "3P%         0.354\n",
       "FT%         0.767\n",
       "Pace        100.1\n",
       "eFG%        0.524\n",
       "TOV%         12.6\n",
       "ORB%         22.9\n",
       "FT/FGA      0.201\n",
       "ORtg        110.1\n",
       "Name: 0, dtype: object"
      ]
     },
     "execution_count": 11,
     "metadata": {},
     "output_type": "execute_result"
    }
   ],
   "source": [
    "averages.iloc[0]"
   ]
  },
  {
   "cell_type": "code",
   "execution_count": null,
   "metadata": {},
   "outputs": [],
   "source": []
  }
 ],
 "metadata": {
  "kernelspec": {
   "display_name": "Python 3",
   "language": "python",
   "name": "python3"
  },
  "language_info": {
   "codemirror_mode": {
    "name": "ipython",
    "version": 3
   },
   "file_extension": ".py",
   "mimetype": "text/x-python",
   "name": "python",
   "nbconvert_exporter": "python",
   "pygments_lexer": "ipython3",
   "version": "3.6.7"
  }
 },
 "nbformat": 4,
 "nbformat_minor": 2
}
