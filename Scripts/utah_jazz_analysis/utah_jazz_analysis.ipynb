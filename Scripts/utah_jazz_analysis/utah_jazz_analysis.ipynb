{
 "cells": [
  {
   "cell_type": "code",
   "execution_count": 1,
   "metadata": {},
   "outputs": [],
   "source": [
    "import requests\n",
    "import matplotlib.pyplot as plt\n",
    "import pandas as pd\n",
    "import urllib2\n",
    "import json"
   ]
  },
  {
   "cell_type": "code",
   "execution_count": 2,
   "metadata": {},
   "outputs": [],
   "source": [
    "headers = {\n",
    "    'user-agent': ('Mozilla/5.0 (Windows NT 6.2; WOW64) AppleWebKit/537.36 (KHTML, like Gecko) Chrome/57.0.2987.133 Safari/537.36'),  # noqa: E501\n",
    "    'Dnt': ('1'),\n",
    "    'Accept-Encoding': ('gzip, deflate, sdch'),\n",
    "    'Accept-Language': ('en'),\n",
    "    'origin': ('http://stats.nba.com')\n",
    "    }"
   ]
  },
  {
   "cell_type": "code",
   "execution_count": 3,
   "metadata": {},
   "outputs": [],
   "source": [
    "def load_nba_dataset_direct_json(json_data):\n",
    "    data = json_data['resultSets'][0]\n",
    "    data_frame = pd.DataFrame(data=data[\"rowSet\"], columns=data['headers'])\n",
    "    return data_frame\n",
    "\n",
    "def get_page_from_url(url):\n",
    "    return requests.get(url, headers=headers).json()"
   ]
  },
  {
   "cell_type": "code",
   "execution_count": 4,
   "metadata": {},
   "outputs": [],
   "source": [
    "last_21_games = \"http://stats.nba.com/stats/leaguedashptstats?College=&Conference=&Country=&DateFrom=&DateTo=&Division=&DraftPick=&DraftYear=&GameScope=&GameSegment=&Height=&LastNGames=21&LeagueID=00&Location=&Month=0&OpponentTeamID=0&Outcome=&PORound=0&PerMode=PerGame&Period=0&PlayerExperience=&PlayerOrTeam=Team&PlayerPosition=&PtMeasureType=Efficiency&Season=2017-18&SeasonSegment=&SeasonType=Regular+Season&StarterBench=&TeamID=0&VsConference=&VsDivision=&Weight=\""
   ]
  },
  {
   "cell_type": "code",
   "execution_count": 5,
   "metadata": {},
   "outputs": [],
   "source": [
    "data_last_21 = load_nba_dataset_direct_json(get_page_from_url(last_21_games))"
   ]
  },
  {
   "cell_type": "code",
   "execution_count": 6,
   "metadata": {},
   "outputs": [],
   "source": [
    "first_47_games = \"http://stats.nba.com/stats/leaguedashptstats?College=&Conference=&Country=&DateFrom=10/18/2017&DateTo=01/22/2018&Division=&DraftPick=&DraftYear=&GameScope=&GameSegment=&Height=&LastNGames=0&LeagueID=00&Location=&Month=0&OpponentTeamID=0&Outcome=&PORound=0&PerMode=PerGame&Period=0&PlayerExperience=&PlayerOrTeam=Team&PlayerPosition=&PtMeasureType=Efficiency&Season=2017-18&SeasonSegment=&SeasonType=Regular+Season&StarterBench=&TeamID=0&VsConference=&VsDivision=&Weight=\""
   ]
  },
  {
   "cell_type": "code",
   "execution_count": 7,
   "metadata": {},
   "outputs": [],
   "source": [
    "data_first_47 = load_nba_dataset_direct_json(get_page_from_url(first_47_games))"
   ]
  },
  {
   "cell_type": "code",
   "execution_count": 10,
   "metadata": {},
   "outputs": [],
   "source": [
    "url_advanced_shooting = \"http://stats.nba.com/stats/teamgamelogs?DateFrom=&DateTo=&GameSegment=&LastNGames=0&LeagueID=00&Location=&MeasureType=Advanced&Month=0&OpponentTeamID=0&Outcome=&PORound=0&PaceAdjust=N&PerMode=Totals&Period=0&PlusMinus=N&Rank=N&Season=2017-18&SeasonSegment=&SeasonType=Regular+Season&ShotClockRange=&VsConference=&VsDivision=\""
   ]
  },
  {
   "cell_type": "code",
   "execution_count": 11,
   "metadata": {},
   "outputs": [],
   "source": [
    "data_advanced = load_nba_dataset_direct_json(get_page_from_url(url_advanced_shooting))"
   ]
  },
  {
   "cell_type": "code",
   "execution_count": 13,
   "metadata": {},
   "outputs": [],
   "source": [
    "utah_data_only = data_advanced.loc[data_advanced.TEAM_ABBREVIATION == \"UTA\"]"
   ]
  },
  {
   "cell_type": "code",
   "execution_count": 15,
   "metadata": {},
   "outputs": [
    {
     "data": {
      "text/plain": [
       "Index([u'SEASON_YEAR', u'TEAM_ID', u'TEAM_ABBREVIATION', u'TEAM_NAME',\n",
       "       u'GAME_ID', u'GAME_DATE', u'MATCHUP', u'WL', u'MIN', u'OFF_RATING',\n",
       "       u'DEF_RATING', u'NET_RATING', u'AST_PCT', u'AST_TO', u'AST_RATIO',\n",
       "       u'OREB_PCT', u'DREB_PCT', u'REB_PCT', u'TM_TOV_PCT', u'EFG_PCT',\n",
       "       u'TS_PCT', u'PACE', u'PIE', u'GP_RANK', u'W_RANK', u'L_RANK',\n",
       "       u'W_PCT_RANK', u'MIN_RANK', u'OFF_RATING_RANK', u'DEF_RATING_RANK',\n",
       "       u'NET_RATING_RANK', u'AST_PCT_RANK', u'AST_TO_RANK', u'AST_RATIO_RANK',\n",
       "       u'OREB_PCT_RANK', u'DREB_PCT_RANK', u'REB_PCT_RANK', u'TM_TOV_PCT_RANK',\n",
       "       u'EFG_PCT_RANK', u'TS_PCT_RANK', u'PACE_RANK', u'PIE_RANK'],\n",
       "      dtype='object')"
      ]
     },
     "execution_count": 15,
     "metadata": {},
     "output_type": "execute_result"
    }
   ],
   "source": [
    "utah_data_only.columns"
   ]
  },
  {
   "cell_type": "code",
   "execution_count": 26,
   "metadata": {},
   "outputs": [],
   "source": [
    "def add_opponent_stat(data_frame):\n",
    "    opponent_ts = []\n",
    "    for i in range(len(data_frame)):\n",
    "        row = data_frame.iloc[i]\n",
    "        opponent_game = data_advanced.loc[(data_advanced.TEAM_ABBREVIATION != \"UTA\") & \n",
    "                                          (data_advanced.GAME_ID == row.GAME_ID)]\n",
    "        opponent_ts.append(opponent_game.TS_PCT.iloc[0])\n",
    "    data_frame[\"OPP_TS_PCT\"] = opponent_ts"
   ]
  },
  {
   "cell_type": "code",
   "execution_count": 27,
   "metadata": {},
   "outputs": [
    {
     "name": "stderr",
     "output_type": "stream",
     "text": [
      "/usr/local/lib/python2.7/site-packages/ipykernel_launcher.py:8: SettingWithCopyWarning: \n",
      "A value is trying to be set on a copy of a slice from a DataFrame.\n",
      "Try using .loc[row_indexer,col_indexer] = value instead\n",
      "\n",
      "See the caveats in the documentation: http://pandas.pydata.org/pandas-docs/stable/indexing.html#indexing-view-versus-copy\n",
      "  \n"
     ]
    }
   ],
   "source": [
    "add_opponent_stat(utah_data_only)"
   ]
  },
  {
   "cell_type": "code",
   "execution_count": 59,
   "metadata": {},
   "outputs": [],
   "source": [
    "def get_ymd(date):\n",
    "    \"\"\"\n",
    "    Returns year, month and date in integers\n",
    "    \"\"\"\n",
    "    splitted = date.split(\"-\")\n",
    "    return int(splitted[0]), int(splitted[1]), int(splitted[2])\n",
    "\n",
    "def classifyGames(data_frame):\n",
    "    \"\"\"\n",
    "    Classifies the game whether they are after big run by Utah or before\n",
    "    \"\"\"\n",
    "    game_classes = []\n",
    "    colors = []\n",
    "    for i in range(len(data_frame)):\n",
    "        curr_row = data_frame.iloc[i]\n",
    "        date = curr_row.GAME_DATE\n",
    "        date_only = date.split(\"T\")[0]\n",
    "        year, month, day = get_ymd(date_only)\n",
    "        if year <= 2017:\n",
    "            game_classes.append(\"Before 20-2 period\")\n",
    "            colors.append(\"#7badfc\")\n",
    "        elif month <= 1 and day <= 22:\n",
    "            game_classes.append(\"Before 20-2 period\")\n",
    "            colors.append(\"#7badfc\")\n",
    "        elif month == 1 and day > 22:\n",
    "            game_classes.append(\"During 20-2 period\")\n",
    "            colors.append(\"#eaa94d\")\n",
    "        else:\n",
    "            game_classes.append(\"During 20-2 period\")\n",
    "            colors.append(\"#eaa94d\")\n",
    "    data_frame[\"GAME_CLASS\"] = game_classes\n",
    "    data_frame[\"COL\"] = colors\n",
    "        \n",
    "        "
   ]
  },
  {
   "cell_type": "code",
   "execution_count": 60,
   "metadata": {},
   "outputs": [
    {
     "name": "stderr",
     "output_type": "stream",
     "text": [
      "/usr/local/lib/python2.7/site-packages/ipykernel_launcher.py:31: SettingWithCopyWarning: \n",
      "A value is trying to be set on a copy of a slice from a DataFrame.\n",
      "Try using .loc[row_indexer,col_indexer] = value instead\n",
      "\n",
      "See the caveats in the documentation: http://pandas.pydata.org/pandas-docs/stable/indexing.html#indexing-view-versus-copy\n",
      "/usr/local/lib/python2.7/site-packages/ipykernel_launcher.py:32: SettingWithCopyWarning: \n",
      "A value is trying to be set on a copy of a slice from a DataFrame.\n",
      "Try using .loc[row_indexer,col_indexer] = value instead\n",
      "\n",
      "See the caveats in the documentation: http://pandas.pydata.org/pandas-docs/stable/indexing.html#indexing-view-versus-copy\n"
     ]
    }
   ],
   "source": [
    "classifyGames(utah_data_only)"
   ]
  },
  {
   "cell_type": "code",
   "execution_count": 70,
   "metadata": {},
   "outputs": [],
   "source": [
    "plt.style.use('seaborn-whitegrid')"
   ]
  },
  {
   "cell_type": "code",
   "execution_count": 74,
   "metadata": {},
   "outputs": [
    {
     "data": {
      "image/png": "[encoded data removed]",
      "text/plain": [
       "<matplotlib.figure.Figure at 0x113f82250>"
      ]
     },
     "metadata": {},
     "output_type": "display_data"
    }
   ],
   "source": [
    "plt.figure(figsize=(10, 10))\n",
    "\n",
    "before_streak = utah_data_only.loc[utah_data_only.GAME_CLASS == \"Before 20-2 period\"]\n",
    "during_streak = utah_data_only.loc[utah_data_only.GAME_CLASS == \"During 20-2 period\"]\n",
    "before = plt.scatter(x=before_streak.TS_PCT, y=before_streak.OPP_TS_PCT, s=50, c=before_streak.COL)\n",
    "during = plt.scatter(x=during_streak.TS_PCT, y=during_streak.OPP_TS_PCT, s=50, c=during_streak.COL)\n",
    "plt.ylabel(\"Opponent's TS%\")\n",
    "plt.xlabel(\"Utah's TS%\")\n",
    "plt.legend((before, during), (\"Before 20-2 period\", \"During 20-2 period\"))\n",
    "\n",
    "title = plt.title(\"Comparison of Utah and their opponent's TS% during current hot streak and before that\")\n"
   ]
  },
  {
   "cell_type": "code",
   "execution_count": null,
   "metadata": {},
   "outputs": [],
   "source": []
  }
 ],
 "metadata": {
  "kernelspec": {
   "display_name": "Python 2",
   "language": "python",
   "name": "python2"
  },
  "language_info": {
   "codemirror_mode": {
    "name": "ipython",
    "version": 2
   },
   "file_extension": ".py",
   "mimetype": "text/x-python",
   "name": "python",
   "nbconvert_exporter": "python",
   "pygments_lexer": "ipython2",
   "version": "2.7.14"
  }
 },
 "nbformat": 4,
 "nbformat_minor": 2
}
