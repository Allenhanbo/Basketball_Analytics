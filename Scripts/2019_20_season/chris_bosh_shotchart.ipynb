{
 "cells": [
  {
   "cell_type": "code",
   "execution_count": 14,
   "metadata": {},
   "outputs": [],
   "source": [
    "import matplotlib.pyplot as plt\n",
    "import numpy as np\n",
    "import seaborn as sns\n",
    "import pandas as pd\n",
    "import tqdm\n",
    "from time import sleep\n",
    "from nba_api.stats.endpoints.shotchartdetail import ShotChartDetail\n",
    "from nba_api.stats.endpoints.playbyplayv2 import PlayByPlayV2\n",
    "\n",
    "from nba_api.stats.endpoints.leaguegamefinder import LeagueGameFinder\n",
    "from nba_api.stats.static.players import find_players_by_full_name\n",
    "from nba_api.stats.static.teams import find_teams_by_full_name\n"
   ]
  },
  {
   "cell_type": "code",
   "execution_count": 15,
   "metadata": {},
   "outputs": [],
   "source": [
    "from matplotlib.patches import Circle, Rectangle, Arc\n",
    "\n",
    "# Amazing function by Bradley Fay for plotting the nba court\n",
    "# source: https://github.com/bradleyfay/py-Goldsberry/blob/master/docs/Visualizing%20NBA%20Shots%20with%20py-Goldsberry.ipynb\n",
    "def draw_court(ax=None, color='black', lw=2, background_color=\"#EBEBE8\", outer_lines=False):\n",
    "    # If an axes object isn't provided to plot onto, just get current one\n",
    "    if ax is None:\n",
    "        ax = plt.gca()\n",
    "\n",
    "    # Create the various parts of an NBA basketball court\n",
    "\n",
    "    # Create the basketball hoop\n",
    "    # Diameter of a hoop is 18\" so it has a radius of 9\", which is a value\n",
    "    # 7.5 in our coordinate system\n",
    "    hoop = Circle((0, 0), radius=7.5, linewidth=lw, color=color, fill=False)\n",
    "\n",
    "    # Create backboard\n",
    "    backboard = Rectangle((-30, -7.5), 60, -1, linewidth=lw, color=color)\n",
    "\n",
    "    # The paint\n",
    "    # Create the outer box 0f the paint, width=16ft, height=19ft\n",
    "    outer_box = Rectangle((-80, -47.5), 160, 190, linewidth=lw, color=color,\n",
    "                          fill=False, zorder=0)\n",
    "    # Create the inner box of the paint, widt=12ft, height=19ft\n",
    "    inner_box = Rectangle((-60, -47.5), 120, 190, linewidth=lw, color=color,\n",
    "                          fill=False, zorder=0)\n",
    "\n",
    "    # Create free throw top arc\n",
    "    top_free_throw = Arc((0, 142.5), 120, 120, theta1=0, theta2=180,\n",
    "                         linewidth=lw, color=color, fill=False, zorder=0)\n",
    "    # Create free throw bottom arc\n",
    "    bottom_free_throw = Arc((0, 142.5), 120, 120, theta1=180, theta2=0,\n",
    "                            linewidth=lw, color=color, linestyle='dashed', zorder=0)\n",
    "    # Restricted Zone, it is an arc with 4ft radius from center of the hoop\n",
    "    restricted = Arc((0, 0), 80, 80, theta1=0, theta2=180, linewidth=lw,\n",
    "                     color=color, zorder=0)\n",
    "\n",
    "    # Three point line\n",
    "    # Create the side 3pt lines, they are 14ft long before they begin to arc\n",
    "    corner_three_a = Rectangle((-220, -47.5), 0, 138, linewidth=lw,\n",
    "                               color=color, zorder=0)\n",
    "    corner_three_b = Rectangle((220, -47.5), 0, 138, linewidth=lw, color=color, zorder=0)\n",
    "    # 3pt arc - center of arc will be the hoop, arc is 23'9\" away from hoop\n",
    "    # I just played around with the theta values until they lined up with the \n",
    "    # threes\n",
    "    three_arc = Arc((0, 0), 475, 475, theta1=22.13, theta2=157.87, linewidth=lw,\n",
    "                    color=color, zorder=0)\n",
    "\n",
    "    # Center Court\n",
    "    center_outer_arc = Arc((0, 422.5), 120, 120, theta1=180, theta2=0,\n",
    "                           linewidth=lw, color=color, zorder=0)\n",
    "    center_inner_arc = Arc((0, 422.5), 40, 40, theta1=180, theta2=0,\n",
    "                           linewidth=lw, color=color, zorder=0)\n",
    "\n",
    "    # List of the court elements to be plotted onto the axes\n",
    "    court_elements = [hoop, backboard, outer_box, inner_box, top_free_throw,\n",
    "                      bottom_free_throw, restricted, corner_three_a,\n",
    "                      corner_three_b, three_arc, center_outer_arc,\n",
    "                      center_inner_arc]\n",
    "    \n",
    "    # Draw the half court line, baseline and side out bound lines\n",
    "    outer_lines = Rectangle((-249, -48), 498, 470, linewidth=lw,\n",
    "                            color=color, fill=None)\n",
    "    court_elements.append(outer_lines)\n",
    "\n",
    "    # Add the court elements onto the axes\n",
    "    for element in court_elements:\n",
    "        ax.add_patch(element)\n",
    "\n",
    "    return ax"
   ]
  },
  {
   "cell_type": "code",
   "execution_count": 16,
   "metadata": {},
   "outputs": [],
   "source": [
    "player_id = find_players_by_full_name('Chris Bosh')[0]['id']"
   ]
  },
  {
   "cell_type": "code",
   "execution_count": 17,
   "metadata": {},
   "outputs": [],
   "source": [
    "seasons = [f\"{season}-{str(season+1)[-2:]}\" for season in range(2003, 2016)]"
   ]
  },
  {
   "cell_type": "code",
   "execution_count": 19,
   "metadata": {},
   "outputs": [
    {
     "name": "stderr",
     "output_type": "stream",
     "text": [
      "Iterating Seasons...: 100%|█████████████████████████████████████████████████████████████████████████████████████████████████████████████████████████████████████████████████████████| 13/13 [00:07<00:00,  1.79it/s]\n"
     ]
    }
   ],
   "source": [
    "assist_data_frames = []\n",
    "for season in tqdm.tqdm(seasons, desc='Iterating Seasons...'):\n",
    "    season_assists = []\n",
    "    shot_chart = ShotChartDetail(team_id=0, player_id=player_id, season_nullable=season, context_measure_simple=\"FGM\")\n",
    "    shot_df = shot_chart.get_data_frames()[0]\n",
    "    shot_df.loc[:, 'SEASON'] = season\n",
    "    #game_finder = LeagueGameFinder(player_id_nullable=lebron_id, player_or_team_abbreviation='P', season_nullable=season)\n",
    "    #games_df = game_finder.get_data_frames()[0]\n",
    "    assist_data_frames.append(shot_df)\n",
    "    sleep(0.2)"
   ]
  },
  {
   "cell_type": "code",
   "execution_count": 20,
   "metadata": {},
   "outputs": [],
   "source": [
    "all_dfs = pd.concat(assist_data_frames, ignore_index=True)"
   ]
  },
  {
   "cell_type": "code",
   "execution_count": 42,
   "metadata": {},
   "outputs": [],
   "source": [
    "colors =[\n",
    "    \"#CE1141\",\n",
    "    \"#CE1141\",\n",
    "    \"#CE1141\",\n",
    "    \"#CE1141\",\n",
    "    \"#CE1141\",\n",
    "    \"#CE1141\",\n",
    "    \"#CE1141\",\n",
    "    \"#000000\",\n",
    "    \"#000000\",\n",
    "    \"#000000\",\n",
    "    \"#000000\",\n",
    "    \"#000000\",\n",
    "    \"#000000\"\n",
    "]\n",
    "\n",
    "edge_colors = [\n",
    "    \"#222222\",\n",
    "    \"#222222\",\n",
    "    \"#222222\",\n",
    "    \"#222222\",\n",
    "    \"#222222\",\n",
    "    \"#222222\",\n",
    "    \"#222222\",\n",
    "    \"#98002E\",\n",
    "    \"#98002E\",\n",
    "    \"#98002E\",\n",
    "    \"#98002E\",\n",
    "    \"#98002E\",\n",
    "    \"#98002E\"\n",
    "]"
   ]
  },
  {
   "cell_type": "code",
   "execution_count": 34,
   "metadata": {},
   "outputs": [],
   "source": [
    "data_frame = all_dfs"
   ]
  },
  {
   "cell_type": "code",
   "execution_count": 39,
   "metadata": {},
   "outputs": [],
   "source": [
    "from matplotlib.animation import FuncAnimation\n",
    "from matplotlib.animation import writers, FFMpegWriter\n",
    "\n",
    "from matplotlib import animation as manimation"
   ]
  },
  {
   "cell_type": "code",
   "execution_count": 40,
   "metadata": {},
   "outputs": [],
   "source": [
    "plt.style.use('fivethirtyeight')"
   ]
  },
  {
   "cell_type": "code",
   "execution_count": 43,
   "metadata": {},
   "outputs": [
    {
     "data": {
      "image/png": "[encoded data removed]",
      "text/plain": [
       "<Figure size 720x720 with 1 Axes>"
      ]
     },
     "metadata": {},
     "output_type": "display_data"
    }
   ],
   "source": [
    "fig, ax = plt.subplots(figsize=(10, 10))\n",
    "draw_court(ax=ax,outer_lines=True, lw=3)\n",
    "\n",
    "def plot_shot_chart(frame):\n",
    "    \n",
    "    ax.clear()\n",
    "    index = frame // 60\n",
    "    mod = frame % 60\n",
    "\n",
    "    season = seasons[index]\n",
    "    color = colors[index]\n",
    "    edge_color = edge_colors[index]\n",
    "    #print(index)\n",
    "    i=0\n",
    "    while i < index:\n",
    "        curr_season = data_frame.loc[data_frame.SEASON == seasons[i]]\n",
    "        color = colors[i]\n",
    "        made_shots = curr_season.loc[curr_season.SHOT_MADE_FLAG == 1]\n",
    "        alpha=0.025\n",
    "        paths = ax.scatter(\n",
    "            x=made_shots.LOC_X,\n",
    "            y=made_shots.LOC_Y,\n",
    "            marker='o',\n",
    "            c=color,\n",
    "            s=125,\n",
    "            alpha=alpha,\n",
    "            edgecolors=edge_color,\n",
    "            linewidths=1.5\n",
    "        )\n",
    "        i+=1\n",
    "\n",
    "\n",
    "    curr_season = data_frame.loc[data_frame.SEASON == seasons[index]]\n",
    "    color = colors[index]\n",
    "    made_shots = curr_season.loc[curr_season.SHOT_MADE_FLAG == 1]\n",
    "\n",
    "    alpha = (mod+1) * 0.052\n",
    "    if mod > 18:\n",
    "        alpha = 1.0\n",
    "    if mod > 40:\n",
    "        alpha = 1.0 - (mod - 40) *  0.052\n",
    "\n",
    "    paths = ax.scatter(\n",
    "        x=made_shots.LOC_X,\n",
    "        y=made_shots.LOC_Y,\n",
    "        marker='o',\n",
    "        c=color,\n",
    "        s=125,\n",
    "        alpha=alpha,\n",
    "        edgecolors=edge_color,\n",
    "        linewidths=1.5\n",
    "    )\n",
    "\n",
    "    if mod >=55 and index < len(seasons)-1:\n",
    "        curr_season = data_frame.loc[data_frame.SEASON == seasons[index+1]]\n",
    "        made_shots = curr_season.loc[curr_season.SHOT_MADE_FLAG == 1]\n",
    "        color = colors[index+1]\n",
    "        alpha=0.01 * (mod - 55 + 1)\n",
    "        paths = ax.scatter(\n",
    "            x=made_shots.LOC_X,\n",
    "            y=made_shots.LOC_Y,\n",
    "            marker='o',\n",
    "            c=color,\n",
    "            s=125,\n",
    "            alpha=alpha,\n",
    "            edgecolors=edge_color,\n",
    "            linewidths=1.5\n",
    "        )\n",
    "\n",
    "            # Changing court color\n",
    "    ax.set_facecolor('#F6F6F6')\n",
    "\n",
    "    #plt.xticks(np.arange(-250, 251, 20))\n",
    "    #plt.yticks(np.arange(-50, 490, 20))\n",
    "    # Removing ticks\n",
    "    ax.xaxis.set_ticks([])\n",
    "    ax.yaxis.set_ticks([])\n",
    "    ax.grid(False)\n",
    "    ax.set_frame_on(False)\n",
    "\n",
    "    # Title\n",
    "    plt.title(f\"Every Shot Made by Chris Bosh in {seasons[index]}\", size=20)\n",
    "    draw_court(ax=ax,outer_lines=True, lw=3)\n",
    "\n",
    "    # Drawing court\n",
    "    ax.set_xlim(-252,252)\n",
    "    ax.set_ylim(-65,423)\n",
    "    \n",
    "\n",
    "fig.subplots_adjust(left=0.03, bottom=0, right=0.96, top=0.96, wspace=None, hspace=None)\n",
    "\n",
    "animation = FuncAnimation(fig=fig, func=plot_shot_chart, frames=60 * len(seasons), interval=33.3333, repeat_delay=3000)\n",
    "animation.save(\"chris_bosh_all_shots_2.gif\", writer='imagemagick')\n"
   ]
  },
  {
   "cell_type": "markdown",
   "metadata": {},
   "source": [
    "## PASCAL SIAKAM AKA SPICY P"
   ]
  },
  {
   "cell_type": "code",
   "execution_count": 16,
   "metadata": {},
   "outputs": [],
   "source": [
    "player_id = find_players_by_full_name('Pascal Siakam')[0]['id']"
   ]
  },
  {
   "cell_type": "code",
   "execution_count": 17,
   "metadata": {},
   "outputs": [],
   "source": [
    "seasons = [f\"{season}-{str(season+1)[-2:]}\" for season in range(2017, 2020)]"
   ]
  },
  {
   "cell_type": "code",
   "execution_count": 18,
   "metadata": {},
   "outputs": [
    {
     "name": "stderr",
     "output_type": "stream",
     "text": [
      "Iterating Seasons...: 100%|███████████████████████████████████████████████████████████████████████████████████████████████████████████████████████████████████████████████████████████| 3/3 [00:04<00:00,  1.50s/it]\n"
     ]
    }
   ],
   "source": [
    "assist_data_frames = []\n",
    "for season in tqdm.tqdm(seasons, desc='Iterating Seasons...'):\n",
    "    season_assists = []\n",
    "    shot_chart = ShotChartDetail(team_id=0, player_id=player_id, season_nullable=season, context_measure_simple=\"FGM\")\n",
    "    shot_df = shot_chart.get_data_frames()[0]\n",
    "    shot_df.loc[:, 'SEASON'] = season\n",
    "    #game_finder = LeagueGameFinder(player_id_nullable=lebron_id, player_or_team_abbreviation='P', season_nullable=season)\n",
    "    #games_df = game_finder.get_data_frames()[0]\n",
    "    assist_data_frames.append(shot_df)\n",
    "    sleep(0.2)\n",
    "\n",
    "all_dfs = pd.concat(assist_data_frames, ignore_index=True)\n"
   ]
  },
  {
   "cell_type": "code",
   "execution_count": 19,
   "metadata": {},
   "outputs": [],
   "source": [
    "all_dfs = pd.concat(assist_data_frames, ignore_index=True)"
   ]
  },
  {
   "cell_type": "code",
   "execution_count": 20,
   "metadata": {},
   "outputs": [],
   "source": [
    "colors =[\n",
    "    \"#CE1141\",\n",
    "    \"#CE1141\",\n",
    "    \"#CE1141\",\n",
    "]\n",
    "\n",
    "edge_colors = [\n",
    "    \"#000000\",\n",
    "    \"#000000\",\n",
    "    \"#000000\",\n",
    "]"
   ]
  },
  {
   "cell_type": "code",
   "execution_count": 21,
   "metadata": {},
   "outputs": [],
   "source": [
    "data_frame = all_dfs\n",
    "\n",
    "from matplotlib.animation import FuncAnimation\n",
    "from matplotlib.animation import writers, FFMpegWriter\n",
    "\n",
    "from matplotlib import animation as manimation"
   ]
  },
  {
   "cell_type": "code",
   "execution_count": 22,
   "metadata": {},
   "outputs": [],
   "source": [
    "plt.style.use('fivethirtyeight')"
   ]
  },
  {
   "cell_type": "code",
   "execution_count": null,
   "metadata": {},
   "outputs": [],
   "source": [
    "fig, ax = plt.subplots(figsize=(10, 10))\n",
    "draw_court(ax=ax,outer_lines=True, lw=3)\n",
    "\n",
    "def plot_shot_chart(frame):\n",
    "    \n",
    "    ax.clear()\n",
    "    index = frame // 60\n",
    "    mod = frame % 60\n",
    "\n",
    "    season = seasons[index]\n",
    "    color = colors[index]\n",
    "    edge_color = edge_colors[index]\n",
    "    #print(index)\n",
    "    i=0\n",
    "    while i < index:\n",
    "        curr_season = data_frame.loc[data_frame.SEASON == seasons[i]]\n",
    "        color = colors[i]\n",
    "        made_shots = curr_season.loc[curr_season.SHOT_MADE_FLAG == 1]\n",
    "        alpha=0.025\n",
    "        paths = ax.scatter(\n",
    "            x=made_shots.LOC_X,\n",
    "            y=made_shots.LOC_Y,\n",
    "            marker='o',\n",
    "            c=color,\n",
    "            s=125,\n",
    "            alpha=alpha,\n",
    "            edgecolors=edge_color,\n",
    "            linewidths=1.5\n",
    "        )\n",
    "        i+=1\n",
    "\n",
    "    if index > len(seasons):\n",
    "        curr_season = data_frame\n",
    "        title_text = \"last three seasons\"\n",
    "    else:\n",
    "        title_text = seasons[index]\n",
    "        curr_season = data_frame.loc[data_frame.SEASON == seasons[index]]\n",
    "    color = colors[index-1]\n",
    "    made_shots = curr_season.loc[curr_season.SHOT_MADE_FLAG == 1]\n",
    "\n",
    "    alpha = (mod+1) * 0.052\n",
    "    if mod > 18:\n",
    "        alpha = 1.0\n",
    "    if mod > 40:\n",
    "        alpha = 1.0 - (mod - 40) *  0.052\n",
    "\n",
    "    paths = ax.scatter(\n",
    "        x=made_shots.LOC_X,\n",
    "        y=made_shots.LOC_Y,\n",
    "        marker='o',\n",
    "        c=color,\n",
    "        s=125,\n",
    "        alpha=alpha,\n",
    "        edgecolors=edge_color,\n",
    "        linewidths=1.5\n",
    "    )\n",
    "\n",
    "    if mod >=55 and index < len(seasons)-1:\n",
    "        curr_season = data_frame.loc[data_frame.SEASON == seasons[index+1]]\n",
    "        made_shots = curr_season.loc[curr_season.SHOT_MADE_FLAG == 1]\n",
    "        color = colors[index+1]\n",
    "        alpha=0.01 * (mod - 55 + 1)\n",
    "        paths = ax.scatter(\n",
    "            x=made_shots.LOC_X,\n",
    "            y=made_shots.LOC_Y,\n",
    "            marker='o',\n",
    "            c=color,\n",
    "            s=125,\n",
    "            alpha=alpha,\n",
    "            edgecolors=edge_color,\n",
    "            linewidths=1.5\n",
    "        )\n",
    "\n",
    "            # Changing court color\n",
    "    ax.set_facecolor('#F6F6F6')\n",
    "\n",
    "    #plt.xticks(np.arange(-250, 251, 20))\n",
    "    #plt.yticks(np.arange(-50, 490, 20))\n",
    "    # Removing ticks\n",
    "    ax.xaxis.set_ticks([])\n",
    "    ax.yaxis.set_ticks([])\n",
    "    ax.grid(False)\n",
    "    ax.set_frame_on(False)\n",
    "\n",
    "    # Title\n",
    "    plt.title(f\"Every Shot Made by Pascal Siakam in {title_text}\", size=20)\n",
    "    draw_court(ax=ax,outer_lines=True, lw=3)\n",
    "\n",
    "    # Drawing court\n",
    "    ax.set_xlim(-252,252)\n",
    "    ax.set_ylim(-65,423)\n",
    "    \n",
    "\n",
    "fig.subplots_adjust(left=0.03, bottom=0, right=0.96, top=0.96, wspace=None, hspace=None)\n",
    "\n",
    "animation = FuncAnimation(fig=fig, func=plot_shot_chart, frames=60 * len(seasons), interval=33.3333, repeat_delay=7000)\n",
    "animation.save(\"pascal_siakam_2.gif\", writer='imagemagick')\n"
   ]
  },
  {
   "cell_type": "code",
   "execution_count": null,
   "metadata": {},
   "outputs": [],
   "source": []
  }
 ],
 "metadata": {
  "kernelspec": {
   "display_name": "Python 3",
   "language": "python",
   "name": "python3"
  },
  "language_info": {
   "codemirror_mode": {
    "name": "ipython",
    "version": 3
   },
   "file_extension": ".py",
   "mimetype": "text/x-python",
   "name": "python",
   "nbconvert_exporter": "python",
   "pygments_lexer": "ipython3",
   "version": "3.7.4"
  }
 },
 "nbformat": 4,
 "nbformat_minor": 2
}
