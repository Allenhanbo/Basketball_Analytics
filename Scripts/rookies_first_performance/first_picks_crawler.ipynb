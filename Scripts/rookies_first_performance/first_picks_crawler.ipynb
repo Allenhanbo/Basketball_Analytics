{
 "cells": [
  {
   "cell_type": "code",
   "execution_count": 1,
   "metadata": {
    "collapsed": true
   },
   "outputs": [],
   "source": [
    "import requests\n",
    "import urllib2\n",
    "from bs4 import BeautifulSoup\n",
    "import csv"
   ]
  },
  {
   "cell_type": "code",
   "execution_count": 2,
   "metadata": {
    "collapsed": true
   },
   "outputs": [],
   "source": [
    "def getSoupFromURL(url):\n",
    "\n",
    "    try:\n",
    "        r = requests.get(url)\n",
    "    except:\n",
    "        return None\n",
    "\n",
    "    return BeautifulSoup(r.text, \"html5lib\")\n"
   ]
  },
  {
   "cell_type": "code",
   "execution_count": 21,
   "metadata": {
    "collapsed": true
   },
   "outputs": [],
   "source": [
    "def get_all_plays_in_table(url, data):\n",
    "    soup = getSoupFromURL(url)\n",
    "    table = soup.find('table', attrs={\"class\" : \"sortable\"})\n",
    "    table_body = table.find('tbody')\n",
    "    rows = table_body.find_all('tr')\n",
    "    for row in rows:\n",
    "        player_names = row.find_all('td', attrs={'data-stat':'player'})\n",
    "        for elem in player_names:\n",
    "            if elem.text.strip() == \" \":\n",
    "                continue\n",
    "            data.append(elem.text.strip())\n",
    "    return data"
   ]
  },
  {
   "cell_type": "code",
   "execution_count": 22,
   "metadata": {},
   "outputs": [
    {
     "name": "stdout",
     "output_type": "stream",
     "text": [
      "[u'Markelle Fultz', u'Ben Simmons', u'Karl-Anthony Towns', u'Andrew Wiggins', u'Anthony Bennett', u'Anthony Davis', u'Kyrie Irving', u'John Wall', u'Blake Griffin', u'Derrick Rose', u'Greg Oden', u'Andrea Bargnani', u'Andrew Bogut', u'Dwight Howard', u'LeBron James', u'Yao Ming', u'Kwame Brown', u'Kenyon Martin', u'Elton Brand', u'Michael Olowokandi', u'Tim Duncan', u'Allen Iverson', u'Joe Smith', u'Glenn Robinson', u'Chris Webber', u\"Shaquille O'Neal\", u'Larry Johnson', u'Derrick Coleman', u'Pervis Ellison', u'Danny Manning', u'David Robinson', u'Brad Daugherty', u'Patrick Ewing', u'Hakeem Olajuwon', u'Ralph Sampson', u'James Worthy', u'Mark Aguirre', u'Joe Barry Carroll', u'Magic Johnson', u'Mychal Thompson', u'Kent Benson', u'John Lucas', u'David Thompson', u'Bill Walton', u'Doug Collins', u'LaRue Martin', u'Austin Carr', u'Bob Lanier', u'Kareem Abdul-Jabbar', u'Elvin Hayes', u'Jimmy Walker', u'Cazzie Russell', u'Fred Hetzel', u'Jim Barnes', u'Art Heyman', u'Bill McGill', u'Walt Bellamy', u'Oscar Robertson', u'Bob Boozer', u'Elgin Baylor', u'Hot Rod Hundley', u'Si Green', u'Dick Ricketts', u'Frank Selvy', u'Ray Felix', u'Mark Workman', u'Gene Melchiorre', u'Chuck Share', u'Howie Shannon', u'Andy Tonkovich', u'Clifton McNeeley']\n"
     ]
    }
   ],
   "source": [
    "url = \"https://www.basketball-reference.com/draft/\"\n",
    "data = []\n",
    "player_names = get_all_plays_in_table(url, data)\n",
    "print player_names"
   ]
  },
  {
   "cell_type": "code",
   "execution_count": null,
   "metadata": {
    "collapsed": true
   },
   "outputs": [],
   "source": []
  }
 ],
 "metadata": {
  "kernelspec": {
   "display_name": "Python 2",
   "language": "python",
   "name": "python2"
  },
  "language_info": {
   "codemirror_mode": {
    "name": "ipython",
    "version": 2
   },
   "file_extension": ".py",
   "mimetype": "text/x-python",
   "name": "python",
   "nbconvert_exporter": "python",
   "pygments_lexer": "ipython2",
   "version": "2.7.12"
  }
 },
 "nbformat": 4,
 "nbformat_minor": 2
}
