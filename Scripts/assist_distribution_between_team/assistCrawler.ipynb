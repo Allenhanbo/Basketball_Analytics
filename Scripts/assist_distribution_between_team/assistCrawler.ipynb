{
 "cells": [
  {
   "cell_type": "code",
   "execution_count": 1,
   "metadata": {
    "collapsed": true
   },
   "outputs": [],
   "source": [
    "import requests\n",
    "import urllib2\n",
    "from bs4 import BeautifulSoup\n",
    "import csv"
   ]
  },
  {
   "cell_type": "code",
   "execution_count": 2,
   "metadata": {
    "collapsed": true
   },
   "outputs": [],
   "source": [
    "URL_TEAM = \"https://www.basketball-reference.com/play-index/event_finder.cgi?request=1&player_id=&id_val=&event_code=ast&year_id=2018&is_playoffs=N&team_id=\"\n",
    "URL_OFFSET = \"&opp_id=&quarter=&time_remain_quarter=&margin=&score=&offset=\"\n",
    "\n",
    "# usage, URL_TEAM + \"TEAM_NAME\" + URL_OFFSET + \"INDEX\""
   ]
  },
  {
   "cell_type": "code",
   "execution_count": 3,
   "metadata": {
    "collapsed": true
   },
   "outputs": [],
   "source": [
    "def getSoupFromURL(url):\n",
    "\n",
    "    try:\n",
    "        r = requests.get(url)\n",
    "    except:\n",
    "        return None\n",
    "\n",
    "    return BeautifulSoup(r.text, \"html5lib\")\n",
    "\n",
    "def getUrlFromTeamOffset(team, offset):\n",
    "    return URL_TEAM + team + URL_OFFSET + str(offset)"
   ]
  },
  {
   "cell_type": "code",
   "execution_count": 4,
   "metadata": {
    "collapsed": true
   },
   "outputs": [],
   "source": [
    "nba_teams = [\"ATL\", \"NJN\", \"BOS\", \"CHA\", \"CHI\", \"CLE\", \"DAL\", \"DEN\", \"DET\", \"GSW\", \"HOU\", \"IND\", \"LAC\", \"LAL\", \n",
    "             \"MEM\", \"MIA\", \"MIL\", \"MIN\", \"NOH\", \"NYK\", \"OKC\", \"ORL\", \"PHI\", \"PHO\", \"POR\", \"SAC\", \"SAS\", \"TOR\", \n",
    "             \"UTA\", \"WAS\"]"
   ]
  },
  {
   "cell_type": "code",
   "execution_count": 5,
   "metadata": {
    "collapsed": true
   },
   "outputs": [],
   "source": [
    "def get_all_plays_in_table(offset, team_name, data):\n",
    "    url = getUrlFromTeamOffset(team_name, offset)\n",
    "    soup = getSoupFromURL(url)\n",
    "    table = soup.find('table', attrs={\"class\" : \"sortable\"})\n",
    "    table_body = table.find('tbody')\n",
    "\n",
    "    rows = table_body.find_all('tr')\n",
    "    for row in rows:\n",
    "        cols = row.find_all('td', attrs={\"data-stat\" : \"play_desc\"})\n",
    "        for elem in cols:\n",
    "            if elem.text.strip() == \" \":\n",
    "                continue\n",
    "            string =  elem.text.strip()\n",
    "            makes_split = string.split(\"makes\")\n",
    "            scorer = makes_split[0].strip()\n",
    "            assist_by_split = string.split(\"assist by\")\n",
    "            passer = assist_by_split[1].strip()[:-1]\n",
    "            shot_type = makes_split[1].split(\"shot\")[0].strip()\n",
    "            distance = 0\n",
    "            if \"at rim\" not in string:\n",
    "                distance = int(string.split(\"from\")[1].split(\"ft\")[0].strip())\n",
    "        qtr_cols = row.find_all('td', attrs={\"data-stat\" : \"quarter\"})\n",
    "        for elem in qtr_cols:\n",
    "            if elem.text.strip() == \" \":\n",
    "                continue\n",
    "            string = elem.text.strip()\n",
    "            quarter = string[0]\n",
    "            \n",
    "        time_cols = row.find_all('td', attrs={\"data-stat\" : \"time_remain_quarter\"})\n",
    "        for elem in time_cols:\n",
    "            if elem.text.strip() == \" \":\n",
    "                continue\n",
    "            string = elem.text.strip()\n",
    "            splitted = string.split(\":\")\n",
    "            minutes = int(splitted[0])\n",
    "            seconds = int(splitted[1].split(\".\")[0])\n",
    "            \n",
    "        date_cols = row.find_all('td', attrs={\"data-stat\" : \"date_game\"})\n",
    "        for elem in date_cols:\n",
    "            if elem.text.strip() == \" \":\n",
    "                continue\n",
    "            string_date = elem.text.strip()\n",
    "            splitted = string_date.split(\"-\")\n",
    "            date = splitted[0] + splitted[1] + splitted[2]\n",
    "        data.append([passer, scorer, shot_type, distance, quarter, minutes, seconds, date])\n",
    "            \n",
    "    return data"
   ]
  },
  {
   "cell_type": "code",
   "execution_count": 6,
   "metadata": {
    "collapsed": true
   },
   "outputs": [],
   "source": [
    "def get_number_of_urls(team_name):\n",
    "    \"\"\"\n",
    "    Offset doesn't matter here\n",
    "    \"\"\"\n",
    "    url = getUrlFromTeamOffset(team_name, 0)\n",
    "    soup = getSoupFromURL(url)\n",
    "    table = soup.find('table', attrs={\"class\" : \"stats_table\"})\n",
    "    table_body = table.find('tbody')\n",
    "    indexes = []\n",
    "    rows = table_body.find_all('tr')\n",
    "    data = []\n",
    "    for row in rows:\n",
    "        cols = row.find_all('td')\n",
    "        for elem in cols:\n",
    "            if elem.text.strip() == \" \":\n",
    "                continue\n",
    "            text = elem.text.strip()\n",
    "            indexes.append(int(text.split(\"-\")[0])-1)\n",
    "    return indexes\n",
    "    "
   ]
  },
  {
   "cell_type": "code",
   "execution_count": 7,
   "metadata": {
    "collapsed": true
   },
   "outputs": [],
   "source": [
    "nba_teams = [\"HOU\"]\n",
    "for team in nba_teams:\n",
    "    \n",
    "    data = []\n",
    "    indexes = get_number_of_urls(team)\n",
    "    for index in indexes:\n",
    "        get_all_plays_in_table(index, team, data)\n",
    "    \n",
    "    if team == \"NJN\":\n",
    "        team = \"BKN\"\n",
    "    elif team == \"NOH\":\n",
    "        team = \"NOP\"\n",
    "    file_name = \"../../Data/assist_chart/\" + team + \".csv\"\n",
    "    with open(file_name, \"wb\") as f:\n",
    "        writer = csv.writer(f)\n",
    "        writer.writerow(['Passer', 'Scorer', 'ShotType', 'Distance', 'PERIOD', 'MINUTES_REMAINING', 'SECONDS_REMAINING', 'GAME_DATE'])\n",
    "        writer.writerows(data)\n"
   ]
  },
  {
   "cell_type": "code",
   "execution_count": null,
   "metadata": {
    "collapsed": true
   },
   "outputs": [],
   "source": []
  }
 ],
 "metadata": {
  "kernelspec": {
   "display_name": "Python 2",
   "language": "python",
   "name": "python2"
  },
  "language_info": {
   "codemirror_mode": {
    "name": "ipython",
    "version": 2
   },
   "file_extension": ".py",
   "mimetype": "text/x-python",
   "name": "python",
   "nbconvert_exporter": "python",
   "pygments_lexer": "ipython2",
   "version": "2.7.12"
  }
 },
 "nbformat": 4,
 "nbformat_minor": 2
}
