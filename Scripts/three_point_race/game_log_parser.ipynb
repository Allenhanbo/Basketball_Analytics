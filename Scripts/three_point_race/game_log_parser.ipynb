{
 "cells": [
  {
   "cell_type": "code",
   "execution_count": 2,
   "metadata": {},
   "outputs": [],
   "source": [
    "import requests\n",
    "import pandas as pd\n",
    "from bs4 import BeautifulSoup\n",
    "import csv"
   ]
  },
  {
   "cell_type": "code",
   "execution_count": 3,
   "metadata": {},
   "outputs": [],
   "source": [
    "def getSoupFromURL(url):\n",
    "\n",
    "    try:\n",
    "        r = requests.get(url)\n",
    "    except:\n",
    "        return None\n",
    "\n",
    "    return BeautifulSoup(r.text, \"html5lib\")"
   ]
  },
  {
   "cell_type": "code",
   "execution_count": 4,
   "metadata": {},
   "outputs": [],
   "source": [
    "players_dict = {\n",
    "    'Ray Allen': 'players/a/allenra02',\n",
    "    'Reggie Miller': 'players/m/millere01',\n",
    "    'Jason Terry': 'players/t/terryja01',\n",
    "    'Paul Pierce': 'players/p/piercpa01',\n",
    "    'Kyle Korver': 'players/k/korveky01',\n",
    "    'Jamal Crawford': 'players/c/crawfja01',\n",
    "    'Vince Carter': 'players/c/cartevi01',\n",
    "    'Stephen Curry': 'players/c/curryst01',\n",
    "}\n",
    "players_list = [\n",
    "    'Ray Allen',\n",
    "    'Reggie Miller',\n",
    "    'Jason Terry',\n",
    "    'Paul Pierce',\n",
    "    'Kyle Korver',\n",
    "    'Jamal Crawford',\n",
    "    'Vince Carter',\n",
    "    'Stephen Curry'\n",
    "]\n",
    "\n",
    "csv_list = [\n",
    "    'Ray_Allen',\n",
    "    'Reggie_Miller',\n",
    "    'Jason_Terry',\n",
    "    'Paul_Pierce',\n",
    "    'Kyle_Korver',\n",
    "    'Jamal_Crawford',\n",
    "    'Vince_Carter',\n",
    "    'Stephen_Curry'\n",
    "]"
   ]
  },
  {
   "cell_type": "code",
   "execution_count": 5,
   "metadata": {},
   "outputs": [],
   "source": [
    "BASE_URL = \"https://www.basketball-reference.com/\"\n",
    "GAME_LOG_DIR = '/gamelog/'\n",
    "PLAYER_PROFILE_PAGE = \".html\""
   ]
  },
  {
   "cell_type": "code",
   "execution_count": 6,
   "metadata": {},
   "outputs": [],
   "source": [
    "def get_data_for_game_log(player, season):\n",
    "    string_season = str(int(season.split(\"-\")[0]) + 1)\n",
    "    return BASE_URL + players_dict[player] + GAME_LOG_DIR + string_season\n",
    "\n",
    "def get_data_for_player(player):\n",
    "    return BASE_URL + players_dict[player] + PLAYER_PROFILE_PAGE"
   ]
  },
  {
   "cell_type": "code",
   "execution_count": 7,
   "metadata": {},
   "outputs": [],
   "source": [
    "import time"
   ]
  },
  {
   "cell_type": "code",
   "execution_count": 8,
   "metadata": {},
   "outputs": [],
   "source": [
    "seasons_for_players = []\n",
    "\n",
    "for player in players_list:\n",
    "    soup = getSoupFromURL(get_data_for_player(player))\n",
    "    time.sleep(1)\n",
    "    table = soup.find('table', attrs={\"class\" : \"row_summable\"})\n",
    "    table_body = table.find('tbody')\n",
    "    rows = table_body.find_all('tr')\n",
    "    seasons = []\n",
    "    for row in rows:\n",
    "        season_column = row.find('th', attrs={\"data-stat\" : \"season\"})\n",
    "        season_text = season_column.text\n",
    "        if season_text not in seasons:\n",
    "            seasons.append(season_text)\n",
    "    seasons_for_players.append(seasons)"
   ]
  },
  {
   "cell_type": "code",
   "execution_count": 11,
   "metadata": {},
   "outputs": [],
   "source": [
    "for player, seasons, file_name in zip(players_list, seasons_for_players, csv_list):\n",
    "    game_count = 0\n",
    "    three_point_sum = 0\n",
    "    list_rows = []\n",
    "    for season in seasons:\n",
    "        soup = getSoupFromURL(get_data_for_game_log(player, season))\n",
    "        time.sleep(1)\n",
    "        table = soup.find('table', attrs={\"class\" : \"row_summable\"})\n",
    "        table_body = table.find('tbody')\n",
    "        rows = table_body.find_all('tr')\n",
    "        for row in rows:\n",
    "            three_pointer = row.find('td', attrs={\"data-stat\" : \"fg3\"})\n",
    "            if three_pointer is None:\n",
    "                continue\n",
    "            game_count += 1\n",
    "            three_point_sum += int(three_pointer.text)\n",
    "            list_rows.append([player, game_count, three_point_sum])\n",
    "    data_frame = pd.DataFrame(data=list_rows, columns=['PLAYER_NAME', 'GAME_CAREER', 'TOTAL_3MADE'])\n",
    "    data_frame.to_csv('data/' + file_name + \".csv\", header=True)"
   ]
  },
  {
   "cell_type": "code",
   "execution_count": null,
   "metadata": {},
   "outputs": [],
   "source": []
  }
 ],
 "metadata": {
  "kernelspec": {
   "display_name": "Python 3",
   "language": "python",
   "name": "python3"
  },
  "language_info": {
   "codemirror_mode": {
    "name": "ipython",
    "version": 3
   },
   "file_extension": ".py",
   "mimetype": "text/x-python",
   "name": "python",
   "nbconvert_exporter": "python",
   "pygments_lexer": "ipython3",
   "version": "3.6.6"
  }
 },
 "nbformat": 4,
 "nbformat_minor": 2
}
