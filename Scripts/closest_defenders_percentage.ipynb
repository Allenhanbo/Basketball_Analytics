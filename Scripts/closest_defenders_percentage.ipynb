{
 "cells": [
  {
   "cell_type": "code",
   "execution_count": 62,
   "metadata": {},
   "outputs": [],
   "source": [
    "import numpy as np\n",
    "import matplotlib.pyplot as plt\n",
    "import urllib, json\n",
    "import requests\n",
    "import pandas as pd\n",
    "%matplotlib inline"
   ]
  },
  {
   "cell_type": "code",
   "execution_count": 94,
   "metadata": {
    "collapsed": true
   },
   "outputs": [],
   "source": [
    "def load_closest_defender_dataset(path):\n",
    "    curr_file = open(path)\n",
    "    json_data = json.load(curr_file)\n",
    "    result_data = json_data['resultSets'][0]\n",
    "    headers = result_data['headers']\n",
    "    shots = result_data['rowSet']\n",
    "    data_frame = pd.DataFrame(data=shots, columns=headers)\n",
    "    return data_frame"
   ]
  },
  {
   "cell_type": "code",
   "execution_count": 95,
   "metadata": {},
   "outputs": [],
   "source": [
    "very_tight_d = load_closest_defender_dataset(\"../Data/nba_closest_defenders/player_shots_very_tight_defense.json\")\n",
    "tight_d = load_closest_defender_dataset(\"../Data/nba_closest_defenders/player_shots_tight_defense.json\")\n",
    "open_d = load_closest_defender_dataset(\"../Data/nba_closest_defenders/player_shots_open_defense.json\")\n",
    "wide_open_d = load_closest_defender_dataset(\"../Data/nba_closest_defenders/player_shots_wide_open_defense.json\")"
   ]
  },
  {
   "cell_type": "code",
   "execution_count": null,
   "metadata": {
    "collapsed": true
   },
   "outputs": [],
   "source": []
  }
 ],
 "metadata": {
  "kernelspec": {
   "display_name": "Python 2",
   "language": "python",
   "name": "python2"
  },
  "language_info": {
   "codemirror_mode": {
    "name": "ipython",
    "version": 2
   },
   "file_extension": ".py",
   "mimetype": "text/x-python",
   "name": "python",
   "nbconvert_exporter": "python",
   "pygments_lexer": "ipython2",
   "version": "2.7.12"
  }
 },
 "nbformat": 4,
 "nbformat_minor": 2
}
